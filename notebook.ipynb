{
 "cells": [
  {
   "cell_type": "markdown",
   "metadata": {},
   "source": [
    "# Практический кейс\n",
    "## «Прогнозирование размеров сварного шва при электронно-лучевой сварке тонкостенных конструкций аэрокосмического назначения»"
   ]
  },
  {
   "cell_type": "markdown",
   "metadata": {},
   "source": [
    "В качестве исходных данных были взяты результаты экспериментальных\n",
    "исследований, проводимых в целях улучшения технологического процесса\n",
    "электронно-лучевой сварки изделия, сборка которого состоит из элементов,\n",
    "состоящих из разнородного материала.\n",
    "Установка электронно-лучевой сварки, на которой проводились\n",
    "исследования, предназначена для сварки электронным лучом в глубоком вакууме\n",
    "деталей сборочных единиц из нержавеющих сталей, титановых, алюминиевых\n",
    "и специальных сплавов.\n",
    "Существующая установка электронно-лучевой сварки обеспечивает\n",
    "повторяемость режимов в рамках возможностей реализованной системы\n",
    "управления. Работы по сварке выполнялись на образцах-имитаторах,\n",
    "соответствующих технологическому изделию.\n",
    "Для уменьшения вложения энергии при сварке:\n",
    "1. Снижалась величина сварочного тока (IW);\n",
    "2. Увеличивался ток фокусировки электронного пучка (IF);\n",
    "3. Увеличивалась скорость сварки (VW);\n",
    "4. Менялось расстояние от поверхности образцов до электронно-оптической\n",
    "системы (FP).\n",
    "\n",
    "По совокупности параметров технологических режимов обеспечивались\n",
    "минимально возможные размеры сварных швов: глубина шва (Depth) и ширина\n",
    "шва (Width).\n",
    "\n",
    "В процессе выполнения работ была произведена электронно-лучевая сварка\n",
    "18-ти единиц образцов. Результаты металлографического контроля\n",
    "по размерам сварного шва для каждого образца проводились в 4-х поперечных\n",
    "сечениях сварного шва. Ускоряющее напряжение было постоянным в диапазоне\n",
    "19,8 – 20 кВ. Набор полученных данных собраны в составе режимов сварки,\n",
    "размеров сварочных швов в поперечных сечениях всех образцов. Статистические\n",
    "показатели набора обучающих данных указаны в табл. 1.\n",
    "\n",
    "<img src=\"Task\\Table1.png\" alt=\"drawing\" width=\"600\"/>"
   ]
  },
  {
   "cell_type": "markdown",
   "metadata": {},
   "source": [
    "## Импорт библиотек"
   ]
  },
  {
   "cell_type": "code",
   "execution_count": 1,
   "metadata": {},
   "outputs": [],
   "source": [
    "import numpy as np\n",
    "import pandas as pd\n",
    "\n",
    "import matplotlib.pyplot as plt\n",
    "import seaborn as sns\n",
    "%matplotlib inline\n",
    "\n",
    "from sklearn.preprocessing import StandardScaler\n",
    "from sklearn.model_selection import train_test_split\n",
    "from sklearn.pipeline import Pipeline\n",
    "from sklearn.linear_model import LinearRegression\n",
    "from sklearn.metrics import mean_absolute_error\n",
    "\n",
    "import warnings\n",
    "warnings.filterwarnings(\"ignore\")\n",
    "\n",
    "import tensorflow as tf\n",
    "from tensorflow import keras\n",
    "from tensorflow.keras import layers\n",
    "from keras.models import Model\n",
    "from keras.models import Sequential\n",
    "from keras.layers import Dense, Input\n",
    "\n",
    "import pickle"
   ]
  },
  {
   "cell_type": "markdown",
   "metadata": {},
   "source": [
    "## Загрузка датасета"
   ]
  },
  {
   "cell_type": "code",
   "execution_count": 2,
   "metadata": {},
   "outputs": [
    {
     "data": {
      "text/html": [
       "<div>\n",
       "<style scoped>\n",
       "    .dataframe tbody tr th:only-of-type {\n",
       "        vertical-align: middle;\n",
       "    }\n",
       "\n",
       "    .dataframe tbody tr th {\n",
       "        vertical-align: top;\n",
       "    }\n",
       "\n",
       "    .dataframe thead th {\n",
       "        text-align: right;\n",
       "    }\n",
       "</style>\n",
       "<table border=\"1\" class=\"dataframe\">\n",
       "  <thead>\n",
       "    <tr style=\"text-align: right;\">\n",
       "      <th></th>\n",
       "      <th>IW</th>\n",
       "      <th>IF</th>\n",
       "      <th>VW</th>\n",
       "      <th>FP</th>\n",
       "      <th>Depth</th>\n",
       "      <th>Width</th>\n",
       "    </tr>\n",
       "  </thead>\n",
       "  <tbody>\n",
       "    <tr>\n",
       "      <th>0</th>\n",
       "      <td>47</td>\n",
       "      <td>139</td>\n",
       "      <td>4.5</td>\n",
       "      <td>80</td>\n",
       "      <td>1.60</td>\n",
       "      <td>2.54</td>\n",
       "    </tr>\n",
       "    <tr>\n",
       "      <th>1</th>\n",
       "      <td>47</td>\n",
       "      <td>139</td>\n",
       "      <td>4.5</td>\n",
       "      <td>80</td>\n",
       "      <td>1.62</td>\n",
       "      <td>2.50</td>\n",
       "    </tr>\n",
       "    <tr>\n",
       "      <th>2</th>\n",
       "      <td>47</td>\n",
       "      <td>139</td>\n",
       "      <td>4.5</td>\n",
       "      <td>80</td>\n",
       "      <td>1.68</td>\n",
       "      <td>2.60</td>\n",
       "    </tr>\n",
       "    <tr>\n",
       "      <th>3</th>\n",
       "      <td>47</td>\n",
       "      <td>139</td>\n",
       "      <td>4.5</td>\n",
       "      <td>80</td>\n",
       "      <td>1.58</td>\n",
       "      <td>2.52</td>\n",
       "    </tr>\n",
       "    <tr>\n",
       "      <th>4</th>\n",
       "      <td>45</td>\n",
       "      <td>140</td>\n",
       "      <td>4.5</td>\n",
       "      <td>80</td>\n",
       "      <td>1.76</td>\n",
       "      <td>2.48</td>\n",
       "    </tr>\n",
       "  </tbody>\n",
       "</table>\n",
       "</div>"
      ],
      "text/plain": [
       "   IW   IF   VW  FP  Depth  Width\n",
       "0  47  139  4.5  80   1.60   2.54\n",
       "1  47  139  4.5  80   1.62   2.50\n",
       "2  47  139  4.5  80   1.68   2.60\n",
       "3  47  139  4.5  80   1.58   2.52\n",
       "4  45  140  4.5  80   1.76   2.48"
      ]
     },
     "execution_count": 2,
     "metadata": {},
     "output_type": "execute_result"
    }
   ],
   "source": [
    "raw_df = pd.read_csv(\"Dataset_case_1/ebw_data.csv\")\n",
    "raw_df.head()"
   ]
  },
  {
   "cell_type": "markdown",
   "metadata": {},
   "source": [
    "## Разведочный анализ"
   ]
  },
  {
   "cell_type": "markdown",
   "metadata": {},
   "source": [
    "**Посмотрим общий состав и тип данных**"
   ]
  },
  {
   "cell_type": "code",
   "execution_count": 3,
   "metadata": {},
   "outputs": [
    {
     "name": "stdout",
     "output_type": "stream",
     "text": [
      "<class 'pandas.core.frame.DataFrame'>\n",
      "RangeIndex: 72 entries, 0 to 71\n",
      "Data columns (total 6 columns):\n",
      " #   Column  Non-Null Count  Dtype  \n",
      "---  ------  --------------  -----  \n",
      " 0   IW      72 non-null     int64  \n",
      " 1   IF      72 non-null     int64  \n",
      " 2   VW      72 non-null     float64\n",
      " 3   FP      72 non-null     int64  \n",
      " 4   Depth   72 non-null     float64\n",
      " 5   Width   72 non-null     float64\n",
      "dtypes: float64(3), int64(3)\n",
      "memory usage: 3.5 KB\n"
     ]
    }
   ],
   "source": [
    "raw_df.info()"
   ]
  },
  {
   "cell_type": "markdown",
   "metadata": {},
   "source": [
    "Пропусков нет. Все параметры числовые. \n",
    "Обращает внимание малый размер выборки - всего 72 записи."
   ]
  },
  {
   "cell_type": "markdown",
   "metadata": {},
   "source": [
    "**Посмотрим описательную статистику**"
   ]
  },
  {
   "cell_type": "code",
   "execution_count": 4,
   "metadata": {},
   "outputs": [
    {
     "data": {
      "text/html": [
       "<div>\n",
       "<style scoped>\n",
       "    .dataframe tbody tr th:only-of-type {\n",
       "        vertical-align: middle;\n",
       "    }\n",
       "\n",
       "    .dataframe tbody tr th {\n",
       "        vertical-align: top;\n",
       "    }\n",
       "\n",
       "    .dataframe thead th {\n",
       "        text-align: right;\n",
       "    }\n",
       "</style>\n",
       "<table border=\"1\" class=\"dataframe\">\n",
       "  <thead>\n",
       "    <tr style=\"text-align: right;\">\n",
       "      <th></th>\n",
       "      <th>count</th>\n",
       "      <th>mean</th>\n",
       "      <th>std</th>\n",
       "      <th>min</th>\n",
       "      <th>25%</th>\n",
       "      <th>50%</th>\n",
       "      <th>75%</th>\n",
       "      <th>max</th>\n",
       "    </tr>\n",
       "  </thead>\n",
       "  <tbody>\n",
       "    <tr>\n",
       "      <th>IW</th>\n",
       "      <td>72.0</td>\n",
       "      <td>45.666667</td>\n",
       "      <td>1.678363</td>\n",
       "      <td>43.00</td>\n",
       "      <td>44.00</td>\n",
       "      <td>45.50</td>\n",
       "      <td>47.00</td>\n",
       "      <td>49.00</td>\n",
       "    </tr>\n",
       "    <tr>\n",
       "      <th>IF</th>\n",
       "      <td>72.0</td>\n",
       "      <td>141.333333</td>\n",
       "      <td>5.145763</td>\n",
       "      <td>131.00</td>\n",
       "      <td>139.00</td>\n",
       "      <td>141.00</td>\n",
       "      <td>146.00</td>\n",
       "      <td>150.00</td>\n",
       "    </tr>\n",
       "    <tr>\n",
       "      <th>VW</th>\n",
       "      <td>72.0</td>\n",
       "      <td>8.638889</td>\n",
       "      <td>2.061078</td>\n",
       "      <td>4.50</td>\n",
       "      <td>8.00</td>\n",
       "      <td>9.00</td>\n",
       "      <td>10.00</td>\n",
       "      <td>12.00</td>\n",
       "    </tr>\n",
       "    <tr>\n",
       "      <th>FP</th>\n",
       "      <td>72.0</td>\n",
       "      <td>78.333333</td>\n",
       "      <td>21.493530</td>\n",
       "      <td>50.00</td>\n",
       "      <td>60.00</td>\n",
       "      <td>80.00</td>\n",
       "      <td>80.00</td>\n",
       "      <td>125.00</td>\n",
       "    </tr>\n",
       "    <tr>\n",
       "      <th>Depth</th>\n",
       "      <td>72.0</td>\n",
       "      <td>1.195556</td>\n",
       "      <td>0.225081</td>\n",
       "      <td>0.80</td>\n",
       "      <td>1.08</td>\n",
       "      <td>1.20</td>\n",
       "      <td>1.29</td>\n",
       "      <td>1.76</td>\n",
       "    </tr>\n",
       "    <tr>\n",
       "      <th>Width</th>\n",
       "      <td>72.0</td>\n",
       "      <td>1.970417</td>\n",
       "      <td>0.279040</td>\n",
       "      <td>1.68</td>\n",
       "      <td>1.76</td>\n",
       "      <td>1.84</td>\n",
       "      <td>2.05</td>\n",
       "      <td>2.60</td>\n",
       "    </tr>\n",
       "  </tbody>\n",
       "</table>\n",
       "</div>"
      ],
      "text/plain": [
       "       count        mean        std     min     25%     50%     75%     max\n",
       "IW      72.0   45.666667   1.678363   43.00   44.00   45.50   47.00   49.00\n",
       "IF      72.0  141.333333   5.145763  131.00  139.00  141.00  146.00  150.00\n",
       "VW      72.0    8.638889   2.061078    4.50    8.00    9.00   10.00   12.00\n",
       "FP      72.0   78.333333  21.493530   50.00   60.00   80.00   80.00  125.00\n",
       "Depth   72.0    1.195556   0.225081    0.80    1.08    1.20    1.29    1.76\n",
       "Width   72.0    1.970417   0.279040    1.68    1.76    1.84    2.05    2.60"
      ]
     },
     "execution_count": 4,
     "metadata": {},
     "output_type": "execute_result"
    }
   ],
   "source": [
    "raw_df.describe().T"
   ]
  },
  {
   "cell_type": "markdown",
   "metadata": {},
   "source": [
    "Некоторые параметры имеют значительную разницу в абсолютных значениях: IF - 141.33, FP - 78.33, VW - 8.64 и так далее.\n",
    "\n",
    "Необходима нормализация при построении моделей."
   ]
  },
  {
   "cell_type": "markdown",
   "metadata": {},
   "source": [
    "**Просмотрим совместное распределение нескольких пар столбцов из обучающего набора.**"
   ]
  },
  {
   "cell_type": "code",
   "execution_count": 5,
   "metadata": {},
   "outputs": [
    {
     "data": {
      "text/plain": [
       "<seaborn.axisgrid.PairGrid at 0x266989a7350>"
      ]
     },
     "execution_count": 5,
     "metadata": {},
     "output_type": "execute_result"
    },
    {
     "data": {
      "image/png": "[encoded data removed]",
      "text/plain": [
       "<Figure size 1500x1500 with 42 Axes>"
      ]
     },
     "metadata": {},
     "output_type": "display_data"
    }
   ],
   "source": [
    "sns.pairplot(raw_df.astype(float), diag_kind='kde')"
   ]
  },
  {
   "cell_type": "markdown",
   "metadata": {},
   "source": [
    "Судя по графикам единственный параметр имеющий возможную линейную зависимость с Width это Скорость сварки VW. Остальные параметры имееют менее выраженную зависимость, однако это может быть из за малого количества данных."
   ]
  },
  {
   "cell_type": "markdown",
   "metadata": {},
   "source": [
    "**Проверим корреляцию**"
   ]
  },
  {
   "cell_type": "code",
   "execution_count": 6,
   "metadata": {},
   "outputs": [
    {
     "data": {
      "text/html": [
       "<div>\n",
       "<style scoped>\n",
       "    .dataframe tbody tr th:only-of-type {\n",
       "        vertical-align: middle;\n",
       "    }\n",
       "\n",
       "    .dataframe tbody tr th {\n",
       "        vertical-align: top;\n",
       "    }\n",
       "\n",
       "    .dataframe thead th {\n",
       "        text-align: right;\n",
       "    }\n",
       "</style>\n",
       "<table border=\"1\" class=\"dataframe\">\n",
       "  <thead>\n",
       "    <tr style=\"text-align: right;\">\n",
       "      <th></th>\n",
       "      <th>IW</th>\n",
       "      <th>IF</th>\n",
       "      <th>VW</th>\n",
       "      <th>FP</th>\n",
       "      <th>Depth</th>\n",
       "      <th>Width</th>\n",
       "    </tr>\n",
       "  </thead>\n",
       "  <tbody>\n",
       "    <tr>\n",
       "      <th>IW</th>\n",
       "      <td>1.000000</td>\n",
       "      <td>-0.861073</td>\n",
       "      <td>-0.043430</td>\n",
       "      <td>0.835530</td>\n",
       "      <td>-0.289568</td>\n",
       "      <td>0.434869</td>\n",
       "    </tr>\n",
       "    <tr>\n",
       "      <th>IF</th>\n",
       "      <td>-0.861073</td>\n",
       "      <td>1.000000</td>\n",
       "      <td>0.115093</td>\n",
       "      <td>-0.980562</td>\n",
       "      <td>0.376084</td>\n",
       "      <td>-0.510167</td>\n",
       "    </tr>\n",
       "    <tr>\n",
       "      <th>VW</th>\n",
       "      <td>-0.043430</td>\n",
       "      <td>0.115093</td>\n",
       "      <td>1.000000</td>\n",
       "      <td>-0.001060</td>\n",
       "      <td>-0.671437</td>\n",
       "      <td>-0.874257</td>\n",
       "    </tr>\n",
       "    <tr>\n",
       "      <th>FP</th>\n",
       "      <td>0.835530</td>\n",
       "      <td>-0.980562</td>\n",
       "      <td>-0.001060</td>\n",
       "      <td>1.000000</td>\n",
       "      <td>-0.510748</td>\n",
       "      <td>0.412962</td>\n",
       "    </tr>\n",
       "    <tr>\n",
       "      <th>Depth</th>\n",
       "      <td>-0.289568</td>\n",
       "      <td>0.376084</td>\n",
       "      <td>-0.671437</td>\n",
       "      <td>-0.510748</td>\n",
       "      <td>1.000000</td>\n",
       "      <td>0.425391</td>\n",
       "    </tr>\n",
       "    <tr>\n",
       "      <th>Width</th>\n",
       "      <td>0.434869</td>\n",
       "      <td>-0.510167</td>\n",
       "      <td>-0.874257</td>\n",
       "      <td>0.412962</td>\n",
       "      <td>0.425391</td>\n",
       "      <td>1.000000</td>\n",
       "    </tr>\n",
       "  </tbody>\n",
       "</table>\n",
       "</div>"
      ],
      "text/plain": [
       "             IW        IF        VW        FP     Depth     Width\n",
       "IW     1.000000 -0.861073 -0.043430  0.835530 -0.289568  0.434869\n",
       "IF    -0.861073  1.000000  0.115093 -0.980562  0.376084 -0.510167\n",
       "VW    -0.043430  0.115093  1.000000 -0.001060 -0.671437 -0.874257\n",
       "FP     0.835530 -0.980562 -0.001060  1.000000 -0.510748  0.412962\n",
       "Depth -0.289568  0.376084 -0.671437 -0.510748  1.000000  0.425391\n",
       "Width  0.434869 -0.510167 -0.874257  0.412962  0.425391  1.000000"
      ]
     },
     "execution_count": 6,
     "metadata": {},
     "output_type": "execute_result"
    }
   ],
   "source": [
    "raw_df.corr()"
   ]
  },
  {
   "cell_type": "markdown",
   "metadata": {},
   "source": [
    "Видно явную корреляцию целевой переменной Width с атрибутом - Скорость сварки VW. Что в принципе подтверждалось и графиком выше.\n",
    "Также видно некоторые взаимные зависимости между параметрами IW - IF, IW - FP, IF - FP, VW - Depth."
   ]
  },
  {
   "cell_type": "markdown",
   "metadata": {},
   "source": [
    "### Предобработка данных"
   ]
  },
  {
   "cell_type": "markdown",
   "metadata": {},
   "source": [
    "Особой предобработки не требуется, единственное необходимо нормализовать данные. Однако нормализацию целесообразно выполнять в составе моделей.\n",
    "\n",
    "В качестве предобработки рассмотрим модель LinearRegressor, для последующей оценки качества модели NN:"
   ]
  },
  {
   "cell_type": "markdown",
   "metadata": {},
   "source": [
    "**Linear Regression**"
   ]
  },
  {
   "cell_type": "code",
   "execution_count": 7,
   "metadata": {},
   "outputs": [],
   "source": [
    "# разделим датасет на входные переменные Х и две выходные переменные\n",
    "X = raw_df.drop({'Depth', 'Width'}, axis=1)\n",
    "y = raw_df[['Depth', 'Width']]"
   ]
  },
  {
   "cell_type": "code",
   "execution_count": 8,
   "metadata": {},
   "outputs": [
    {
     "name": "stdout",
     "output_type": "stream",
     "text": [
      "Оценка качества: [Глубина Depth, Ширина Width]\n",
      "MAE:  0.061796039069472584\n",
      "MAE от среднего значения, %:\n",
      "Depth    5.277612\n",
      "Width    3.050971\n",
      "dtype: float64\n"
     ]
    }
   ],
   "source": [
    "# разделим на обучающую и тестовую выборки\n",
    "X_train, X_test, y_train, y_test = train_test_split(X, y, test_size=.15)\n",
    "\n",
    "# зададим модель через Pipeline\n",
    "pipe_lr = Pipeline(\n",
    "    [\n",
    "       ('Scaler', StandardScaler()),\n",
    "       ('Regression', LinearRegression())\n",
    "    ]\n",
    ")\n",
    "# натренируем модель\n",
    "pipe_lr.fit(X_train,y_train)\n",
    "# посчитаем качество\n",
    "print('Оценка качества: [Глубина Depth, Ширина Width]')\n",
    "print('MAE: ', mean_absolute_error(y_test, pipe_lr.predict(X_test)))\n",
    "print('MAE от среднего значения, %:')\n",
    "print(mean_absolute_error(y_test, pipe_lr.predict(X_test))*100 / y_test.mean())"
   ]
  },
  {
   "cell_type": "markdown",
   "metadata": {},
   "source": [
    "В принипе точность неплохая 5% по глубине и 3% по ширине.\n",
    "\n",
    "В качестве метки выбраны параметры:\n",
    "- MAE - mean absolute error - средняя абсолютная ошибка;\n",
    "- и MAE от среднего значения в % - показывает относительную ошибку от среднего значения тестовой выборки.\n",
    "Эти оценки будем использовать в дальнейшем для оценки модели.\n",
    "\n"
   ]
  },
  {
   "cell_type": "markdown",
   "metadata": {},
   "source": [
    "### Разработка и обучение модели NN"
   ]
  },
  {
   "cell_type": "markdown",
   "metadata": {},
   "source": [
    "Подготовим данные. Разобьем на обучающую, тестовую и валидационную выборки. Учитывая, что данным мало (72 записи) оставим на тестирование 15%, а оставшиеся записи разделим в пропорции 85% - обучающая и 15% валидационная"
   ]
  },
  {
   "cell_type": "code",
   "execution_count": 9,
   "metadata": {},
   "outputs": [],
   "source": [
    "X_train_val, X_test, y_train_val, y_test = train_test_split(X, y, test_size=.15, random_state = 1)\n",
    "X_train, X_val, y_train, y_val = train_test_split(X_train_val, y_train_val, test_size=0.15, random_state=1)"
   ]
  },
  {
   "cell_type": "markdown",
   "metadata": {},
   "source": [
    "Для начала попробуем однослойную модель без нормализации без скрытых слоев. Для оценки будем использовать MAE.\n",
    "\n",
    "Учитывая, что нам необходимо, что бы модель была не только точной, но и стабильной, будем задавать ее в ввиде функции и далее прогонять через цикл из 10 измерений с выдачей средней погрешности и ее отклонения."
   ]
  },
  {
   "cell_type": "code",
   "execution_count": 10,
   "metadata": {},
   "outputs": [],
   "source": [
    "#зададим функцию для компиляции и выдачи результатов\n",
    "def MAE_of_model(model, n = 10):\n",
    "    # компилируем\n",
    "    model.compile(loss='mean_absolute_error', \n",
    "                            optimizer=tf.keras.optimizers.Adam(0.01))\n",
    "    # обучаем\n",
    "    history = model.fit(\n",
    "        X_train, \n",
    "        y_train,\n",
    "        validation_data=(X_val.astype(np.float32), y_val),\n",
    "        verbose=0, epochs=100)\n",
    "    # возвращаем MAE\n",
    "    return model.evaluate(X_test, y_test, verbose=0)\n",
    "\n",
    "# и функцию для прогона и выдачи результата\n",
    "def print_MAE(model, n = 10):\n",
    "    errors_l = list()\n",
    "    for i in range(n):\n",
    "        errors_l.append(MAE_of_model(model))\n",
    "    errors = np.array(errors_l)\n",
    "    print('MAE: ', errors.mean())\n",
    "    print('MAE % от среднего значения: ', errors.mean() * 100 / y_test.mean())"
   ]
  },
  {
   "cell_type": "markdown",
   "metadata": {},
   "source": [
    "1. Однослойная модель (просто линейная регрессия по сути):"
   ]
  },
  {
   "cell_type": "code",
   "execution_count": 11,
   "metadata": {},
   "outputs": [
    {
     "name": "stdout",
     "output_type": "stream",
     "text": [
      "MAE:  0.4622821420431137\n",
      "MAE % от среднего значения:  Depth    43.021181\n",
      "Width    24.542006\n",
      "dtype: float64\n"
     ]
    }
   ],
   "source": [
    "# задаем модель\n",
    "linear_model_1 = tf.keras.Sequential([\n",
    "        layers.Dense(units=2)\n",
    "        ])\n",
    "\n",
    "print_MAE(linear_model_1)"
   ]
  },
  {
   "cell_type": "markdown",
   "metadata": {},
   "source": [
    "Такая погрешность явно не устроит. Добавим скрытый слой с активацией relu."
   ]
  },
  {
   "cell_type": "code",
   "execution_count": 12,
   "metadata": {},
   "outputs": [
    {
     "name": "stdout",
     "output_type": "stream",
     "text": [
      "MAE:  0.2568029217422009\n",
      "MAE % от среднего значения:  Depth    23.898749\n",
      "Width    13.633360\n",
      "dtype: float64\n"
     ]
    }
   ],
   "source": [
    "# задаем модель\n",
    "linear_model_2 = tf.keras.Sequential([\n",
    "    layers.Dense(10, input_shape=(X.shape[1],), activation='relu'),\n",
    "    layers.Dense(units=2)\n",
    "    ])\n",
    "\n",
    "print_MAE(linear_model_2)"
   ]
  },
  {
   "cell_type": "markdown",
   "metadata": {},
   "source": [
    "Уже лучше, однако, это тоже мало. Добавим слой с активацией sigmoid"
   ]
  },
  {
   "cell_type": "code",
   "execution_count": 13,
   "metadata": {},
   "outputs": [
    {
     "name": "stdout",
     "output_type": "stream",
     "text": [
      "MAE:  0.07640095874667167\n",
      "MAE % от среднего значения:  Depth    7.110072\n",
      "Width    4.056035\n",
      "dtype: float64\n"
     ]
    }
   ],
   "source": [
    "# задаем модель\n",
    "linear_model_3 = tf.keras.Sequential([\n",
    "    layers.Dense(10, input_shape=(X.shape[1],), activation='relu'),\n",
    "    layers.Dense(10, input_shape=10, activation='sigmoid'),\n",
    "    layers.Dense(units=2)\n",
    "    ])\n",
    "\n",
    "print_MAE(linear_model_3)"
   ]
  },
  {
   "cell_type": "markdown",
   "metadata": {},
   "source": [
    "Теперь попробуем добавить слой нормализации, о котором писал выше."
   ]
  },
  {
   "cell_type": "code",
   "execution_count": 14,
   "metadata": {},
   "outputs": [
    {
     "name": "stdout",
     "output_type": "stream",
     "text": [
      "MAE:  0.03822498805820942\n",
      "MAE % от среднего значения:  Depth    3.557317\n",
      "Width    2.029319\n",
      "dtype: float64\n"
     ]
    }
   ],
   "source": [
    "normalizer = tf.keras.layers.Normalization(axis=1)\n",
    "normalizer.adapt(np.asarray(X).astype('float32'))\n",
    "\n",
    "nonlinear_model = tf.keras.Sequential([\n",
    "    normalizer,\n",
    "    layers.Dense(10, input_shape=(X.shape[1],), activation='relu'),\n",
    "    layers.Dense(10, input_shape=10, activation='sigmoid'),\n",
    "    layers.Dense(units=2)\n",
    "    ])\n",
    "\n",
    "print_MAE(nonlinear_model)"
   ]
  },
  {
   "cell_type": "markdown",
   "metadata": {},
   "source": [
    "Теперь качество модели достаточно хорошее, можем переходить к сохранению модели."
   ]
  },
  {
   "cell_type": "markdown",
   "metadata": {},
   "source": [
    "### Сохранение модели"
   ]
  },
  {
   "cell_type": "code",
   "execution_count": 15,
   "metadata": {},
   "outputs": [],
   "source": [
    "pickle.dump(nonlinear_model, open('Model/nl_model.pkl', 'wb'))"
   ]
  },
  {
   "cell_type": "markdown",
   "metadata": {},
   "source": [
    "Проверим, правильно ли загружается и работает модель"
   ]
  },
  {
   "cell_type": "code",
   "execution_count": 17,
   "metadata": {},
   "outputs": [
    {
     "name": "stdout",
     "output_type": "stream",
     "text": [
      "\u001b[1m1/1\u001b[0m \u001b[32m━━━━━━━━━━━━━━━━━━━━\u001b[0m\u001b[37m\u001b[0m \u001b[1m0s\u001b[0m 51ms/step\n",
      "y_pred [[1.2  1.77]\n",
      " [1.1  1.78]\n",
      " [1.21 1.95]\n",
      " [1.29 1.76]\n",
      " [1.1  1.78]\n",
      " [0.96 1.91]\n",
      " [0.83 2.23]\n",
      " [1.1  1.78]\n",
      " [0.85 2.  ]\n",
      " [1.21 1.76]\n",
      " [1.19 1.78]]\n",
      "y_test [[1.16 1.8 ]\n",
      " [1.08 1.82]\n",
      " [1.16 1.96]\n",
      " [1.36 1.76]\n",
      " [1.08 1.82]\n",
      " [0.92 1.86]\n",
      " [0.8  2.28]\n",
      " [1.08 1.82]\n",
      " [0.86 2.08]\n",
      " [1.2  1.76]\n",
      " [1.12 1.76]]\n"
     ]
    }
   ],
   "source": [
    "model_load = pickle.load(open('Model/nl_model.pkl', 'rb'))\n",
    "# проверим как работает\n",
    "y_pred = model_load.predict(X_test)\n",
    "# сравним с исходными данными\n",
    "print('y_pred {}'.format(y_pred[:].round(2)))\n",
    "print('y_test {}'.format(y_test.values.round(2)))"
   ]
  },
  {
   "cell_type": "markdown",
   "metadata": {},
   "source": [
    "Все работает. Здесь закончили, переходим к созданию приложения в отдельной программе."
   ]
  },
  {
   "cell_type": "code",
   "execution_count": 26,
   "metadata": {},
   "outputs": [
    {
     "data": {
      "text/plain": [
       "(11, 4)"
      ]
     },
     "execution_count": 26,
     "metadata": {},
     "output_type": "execute_result"
    }
   ],
   "source": [
    "X_test.shape"
   ]
  },
  {
   "cell_type": "code",
   "execution_count": 48,
   "metadata": {},
   "outputs": [
    {
     "data": {
      "text/plain": [
       "pandas.core.frame.DataFrame"
      ]
     },
     "execution_count": 48,
     "metadata": {},
     "output_type": "execute_result"
    }
   ],
   "source": [
    "type(X_test.iloc[[1]])"
   ]
  },
  {
   "cell_type": "code",
   "execution_count": 45,
   "metadata": {},
   "outputs": [
    {
     "name": "stdout",
     "output_type": "stream",
     "text": [
      "\u001b[1m1/1\u001b[0m \u001b[32m━━━━━━━━━━━━━━━━━━━━\u001b[0m\u001b[37m\u001b[0m \u001b[1m0s\u001b[0m 24ms/step\n"
     ]
    },
    {
     "data": {
      "text/plain": [
       "array([[1.103206 , 1.7785015]], dtype=float32)"
      ]
     },
     "execution_count": 45,
     "metadata": {},
     "output_type": "execute_result"
    }
   ],
   "source": [
    "model_load.predict(X_test.iloc[[1]])"
   ]
  },
  {
   "cell_type": "code",
   "execution_count": 44,
   "metadata": {},
   "outputs": [
    {
     "name": "stdout",
     "output_type": "stream",
     "text": [
      "\u001b[1m1/1\u001b[0m \u001b[32m━━━━━━━━━━━━━━━━━━━━\u001b[0m\u001b[37m\u001b[0m \u001b[1m0s\u001b[0m 25ms/step\n"
     ]
    },
    {
     "data": {
      "text/plain": [
       "array([[1.2027954 , 1.7742761 ],\n",
       "       [1.103206  , 1.7785016 ],\n",
       "       [1.207274  , 1.9518267 ],\n",
       "       [1.2873248 , 1.7590379 ],\n",
       "       [1.103206  , 1.7785016 ],\n",
       "       [0.96075785, 1.9139065 ],\n",
       "       [0.8319875 , 2.234968  ],\n",
       "       [1.103206  , 1.7785016 ],\n",
       "       [0.84924924, 1.9973727 ],\n",
       "       [1.2096015 , 1.7636653 ],\n",
       "       [1.1913455 , 1.7804146 ]], dtype=float32)"
      ]
     },
     "execution_count": 44,
     "metadata": {},
     "output_type": "execute_result"
    }
   ],
   "source": [
    "model_load.predict(X_test)"
   ]
  },
  {
   "cell_type": "code",
   "execution_count": 60,
   "metadata": {},
   "outputs": [
    {
     "data": {
      "text/plain": [
       "['IW', 'IF', 'VW', 'FP']"
      ]
     },
     "execution_count": 60,
     "metadata": {},
     "output_type": "execute_result"
    }
   ],
   "source": [
    "cols = X_test.iloc[[1]].columns\n",
    "cols = list(cols)\n",
    "cols"
   ]
  },
  {
   "cell_type": "code",
   "execution_count": 67,
   "metadata": {},
   "outputs": [
    {
     "data": {
      "text/html": [
       "<div>\n",
       "<style scoped>\n",
       "    .dataframe tbody tr th:only-of-type {\n",
       "        vertical-align: middle;\n",
       "    }\n",
       "\n",
       "    .dataframe tbody tr th {\n",
       "        vertical-align: top;\n",
       "    }\n",
       "\n",
       "    .dataframe thead th {\n",
       "        text-align: right;\n",
       "    }\n",
       "</style>\n",
       "<table border=\"1\" class=\"dataframe\">\n",
       "  <thead>\n",
       "    <tr style=\"text-align: right;\">\n",
       "      <th></th>\n",
       "      <th>IW</th>\n",
       "      <th>IF</th>\n",
       "      <th>VW</th>\n",
       "      <th>FP</th>\n",
       "    </tr>\n",
       "  </thead>\n",
       "  <tbody>\n",
       "    <tr>\n",
       "      <th>0</th>\n",
       "      <td>43</td>\n",
       "      <td>150</td>\n",
       "      <td>9</td>\n",
       "      <td>50</td>\n",
       "    </tr>\n",
       "  </tbody>\n",
       "</table>\n",
       "</div>"
      ],
      "text/plain": [
       "   IW   IF  VW  FP\n",
       "0  43  150   9  50"
      ]
     },
     "execution_count": 67,
     "metadata": {},
     "output_type": "execute_result"
    }
   ],
   "source": [
    "a = [43, 150, 9, 50]\n",
    "an = np.array(a).T\n",
    "ex = pd.DataFrame([a], columns = cols)\n",
    "ex"
   ]
  },
  {
   "cell_type": "code",
   "execution_count": 68,
   "metadata": {},
   "outputs": [
    {
     "name": "stdout",
     "output_type": "stream",
     "text": [
      "WARNING:tensorflow:5 out of the last 8 calls to <function TensorFlowTrainer.make_predict_function.<locals>.one_step_on_data_distributed at 0x00000266AE82FBA0> triggered tf.function retracing. Tracing is expensive and the excessive number of tracings could be due to (1) creating @tf.function repeatedly in a loop, (2) passing tensors with different shapes, (3) passing Python objects instead of tensors. For (1), please define your @tf.function outside of the loop. For (2), @tf.function has reduce_retracing=True option that can avoid unnecessary retracing. For (3), please refer to https://www.tensorflow.org/guide/function#controlling_retracing and https://www.tensorflow.org/api_docs/python/tf/function for  more details.\n",
      "\u001b[1m1/1\u001b[0m \u001b[32m━━━━━━━━━━━━━━━━━━━━\u001b[0m\u001b[37m\u001b[0m \u001b[1m0s\u001b[0m 68ms/step\n"
     ]
    },
    {
     "data": {
      "text/plain": [
       "array([[1.103206 , 1.7785015]], dtype=float32)"
      ]
     },
     "execution_count": 68,
     "metadata": {},
     "output_type": "execute_result"
    }
   ],
   "source": [
    "model_load.predict(ex)"
   ]
  },
  {
   "cell_type": "code",
   "execution_count": 70,
   "metadata": {},
   "outputs": [
    {
     "name": "stdout",
     "output_type": "stream",
     "text": [
      "\u001b[1m1/1\u001b[0m \u001b[32m━━━━━━━━━━━━━━━━━━━━\u001b[0m\u001b[37m\u001b[0m \u001b[1m0s\u001b[0m 24ms/step\n"
     ]
    },
    {
     "data": {
      "text/plain": [
       "array([[1.103206 , 1.7785015]], dtype=float32)"
      ]
     },
     "execution_count": 70,
     "metadata": {},
     "output_type": "execute_result"
    }
   ],
   "source": [
    "model_load.predict(X_test.iloc[[1]])"
   ]
  },
  {
   "cell_type": "code",
   "execution_count": null,
   "metadata": {},
   "outputs": [],
   "source": []
  }
 ],
 "metadata": {
  "kernelspec": {
   "display_name": "case_1_welding",
   "language": "python",
   "name": "python3"
  },
  "language_info": {
   "codemirror_mode": {
    "name": "ipython",
    "version": 3
   },
   "file_extension": ".py",
   "mimetype": "text/x-python",
   "name": "python",
   "nbconvert_exporter": "python",
   "pygments_lexer": "ipython3",
   "version": "3.12.7"
  }
 },
 "nbformat": 4,
 "nbformat_minor": 2
}
